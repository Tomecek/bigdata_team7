{
  "nbformat": 4,
  "nbformat_minor": 0,
  "metadata": {
    "colab": {
      "provenance": []
    },
    "kernelspec": {
      "name": "python3",
      "display_name": "Python 3"
    },
    "language_info": {
      "name": "python"
    }
  },
  "cells": [
    {
      "cell_type": "code",
      "execution_count": 67,
      "metadata": {
        "id": "D8-7lQ5jH0nq"
      },
      "outputs": [],
      "source": [
        "# installing jdk\n",
        "!apt-get install openjdk-8-jdk-headless -qq > /dev/null\n",
        "#downloading .tgz installation file for Spache spark\n",
        "!wget -q https://dlcdn.apache.org/spark/spark-3.5.4/spark-3.5.4-bin-hadoop3.tgz\n",
        "# installing apache spark from downloaded file\n",
        "!tar xf spark-3.5.4-bin-hadoop3.tgz\n",
        "# installing findspark library\n",
        "!pip install -q findspark"
      ]
    },
    {
      "cell_type": "code",
      "source": [
        "# importin necessary libraries fro this notebook\n",
        "import os\n",
        "import findspark\n",
        "import numpy as np\n",
        "import pandas as pd\n",
        "from pyspark.sql.types import StringType # Import StringType from pyspark.sql.types\n",
        "from pyspark.sql.window import Window # Import the Window class\n",
        "from pyspark.sql.functions import when, first, col # Import necessary functions\n",
        "\n"
      ],
      "metadata": {
        "id": "1n2WXRmMIFLG"
      },
      "execution_count": 68,
      "outputs": []
    },
    {
      "cell_type": "code",
      "source": [
        "#setting up paths for JDK and spark\n",
        "os.environ[\"JAVA_HOME\"] = \"/usr/lib/jvm/java-8-openjdk-amd64\"\n",
        "os.environ[\"SPARK_HOME\"] = \"/content/spark-3.5.4-bin-hadoop3\"\n",
        "#initiating findspark\n",
        "#findspark.init()\n",
        "findspark.init()"
      ],
      "metadata": {
        "id": "eUNf7NVwIJqc"
      },
      "execution_count": 69,
      "outputs": []
    },
    {
      "cell_type": "code",
      "source": [
        "from pyspark.sql import SparkSession\n",
        "# Create a Spark session\n",
        "spark = SparkSession.builder.appName(\"SparkDayOne\").getOrCreate()"
      ],
      "metadata": {
        "id": "2Uvvwy_HIMmR"
      },
      "execution_count": 70,
      "outputs": []
    },
    {
      "cell_type": "code",
      "source": [
        "spark.getActiveSession"
      ],
      "metadata": {
        "colab": {
          "base_uri": "https://localhost:8080/",
          "height": 186
        },
        "id": "iCxQKTBnIUWk",
        "outputId": "ed42376a-a462-456d-d246-aa3c7437f5cb"
      },
      "execution_count": 71,
      "outputs": [
        {
          "output_type": "execute_result",
          "data": {
            "text/plain": [
              "<bound method SparkSession.getActiveSession of <class 'pyspark.sql.session.SparkSession'>>"
            ],
            "text/html": [
              "<div style=\"max-width:800px; border: 1px solid var(--colab-border-color);\"><style>\n",
              "      pre.function-repr-contents {\n",
              "        overflow-x: auto;\n",
              "        padding: 8px 12px;\n",
              "        max-height: 500px;\n",
              "      }\n",
              "\n",
              "      pre.function-repr-contents.function-repr-contents-collapsed {\n",
              "        cursor: pointer;\n",
              "        max-height: 100px;\n",
              "      }\n",
              "    </style>\n",
              "    <pre style=\"white-space: initial; background:\n",
              "         var(--colab-secondary-surface-color); padding: 8px 12px;\n",
              "         border-bottom: 1px solid var(--colab-border-color);\"><b>pyspark.sql.session.SparkSession.getActiveSession</b><br/>def getActiveSession(cls) -&gt; Optional[&#x27;SparkSession&#x27;]</pre><pre class=\"function-repr-contents function-repr-contents-collapsed\" style=\"\"><a class=\"filepath\" style=\"display:none\" href=\"#\">/content/spark-3.5.4-bin-hadoop3/python/pyspark/sql/session.py</a>Returns the active :class:`SparkSession` for the current thread, returned by the builder\n",
              "\n",
              ".. versionadded:: 3.0.0\n",
              "\n",
              ".. versionchanged:: 3.5.0\n",
              "    Supports Spark Connect.\n",
              "\n",
              "Returns\n",
              "-------\n",
              ":class:`SparkSession`\n",
              "    Spark session if an active session exists for the current thread\n",
              "\n",
              "Examples\n",
              "--------\n",
              "&gt;&gt;&gt; s = SparkSession.getActiveSession()\n",
              "&gt;&gt;&gt; df = s.createDataFrame([(&#x27;Alice&#x27;, 1)], [&#x27;name&#x27;, &#x27;age&#x27;])\n",
              "&gt;&gt;&gt; df.select(&quot;age&quot;).show()\n",
              "+---+\n",
              "|age|\n",
              "+---+\n",
              "|  1|\n",
              "+---+</pre>\n",
              "      <script>\n",
              "      if (google.colab.kernel.accessAllowed && google.colab.files && google.colab.files.view) {\n",
              "        for (const element of document.querySelectorAll('.filepath')) {\n",
              "          element.style.display = 'block'\n",
              "          element.onclick = (event) => {\n",
              "            event.preventDefault();\n",
              "            event.stopPropagation();\n",
              "            google.colab.files.view(element.textContent, 646);\n",
              "          };\n",
              "        }\n",
              "      }\n",
              "      for (const element of document.querySelectorAll('.function-repr-contents')) {\n",
              "        element.onclick = (event) => {\n",
              "          event.preventDefault();\n",
              "          event.stopPropagation();\n",
              "          element.classList.toggle('function-repr-contents-collapsed');\n",
              "        };\n",
              "      }\n",
              "      </script>\n",
              "      </div>"
            ]
          },
          "metadata": {},
          "execution_count": 71
        }
      ]
    },
    {
      "cell_type": "markdown",
      "source": [
        "# Import train data"
      ],
      "metadata": {
        "id": "TrCSYrYXKcjs"
      }
    },
    {
      "cell_type": "code",
      "source": [
        "df_train = spark.read.csv(\"train.csv\", header=True, inferSchema=True)\n",
        "df_train.show()"
      ],
      "metadata": {
        "colab": {
          "base_uri": "https://localhost:8080/"
        },
        "id": "Y1ZzRk_bImed",
        "outputId": "15a1831a-d57e-404a-e9b6-edeb172737b1"
      },
      "execution_count": 72,
      "outputs": [
        {
          "output_type": "stream",
          "name": "stdout",
          "text": [
            "+------+-----------+--------+---------------+----+-----------+----------+-------------+---------------------+-----------------+---------------+-------------+-----------+--------------------+-------------------+----------------------+--------------------+--------------------+----------+----------------+------------------------+--------------------+---------------------+-------------------+-----------------------+--------------------+------------------+------------+\n",
            "|    ID|Customer_ID|   Month|           Name| Age|        SSN|Occupation|Annual_Income|Monthly_Inhand_Salary|Num_Bank_Accounts|Num_Credit_Card|Interest_Rate|Num_of_Loan|        Type_of_Loan|Delay_from_due_date|Num_of_Delayed_Payment|Changed_Credit_Limit|Num_Credit_Inquiries|Credit_Mix|Outstanding_Debt|Credit_Utilization_Ratio|  Credit_History_Age|Payment_of_Min_Amount|Total_EMI_per_month|Amount_invested_monthly|   Payment_Behaviour|   Monthly_Balance|Credit_Score|\n",
            "+------+-----------+--------+---------------+----+-----------+----------+-------------+---------------------+-----------------+---------------+-------------+-----------+--------------------+-------------------+----------------------+--------------------+--------------------+----------+----------------+------------------------+--------------------+---------------------+-------------------+-----------------------+--------------------+------------------+------------+\n",
            "|0x1602|  CUS_0xd40| January|  Aaron Maashoh|  23|821-00-0265| Scientist|     19114.12|   1824.8433333333328|                3|              4|            3|          4|Auto Loan, Credit...|                  3|                     7|               11.27|                 4.0|         _|          809.98|      26.822619623699016|22 Years and 1 Mo...|                   No|  49.57494921489417|      80.41529543900253|High_spent_Small_...|312.49408867943663|        Good|\n",
            "|0x1603|  CUS_0xd40|February|  Aaron Maashoh|  23|821-00-0265| Scientist|     19114.12|                 NULL|                3|              4|            3|          4|Auto Loan, Credit...|                 -1|                  NULL|               11.27|                 4.0|      Good|          809.98|       31.94496005538421|                  NA|                   No|  49.57494921489417|     118.28022162236736|Low_spent_Large_v...|284.62916249607184|        Good|\n",
            "|0x1604|  CUS_0xd40|   March|  Aaron Maashoh|-500|821-00-0265| Scientist|     19114.12|                 NULL|                3|              4|            3|          4|Auto Loan, Credit...|                  3|                     7|                   _|                 4.0|      Good|          809.98|       28.60935202206993|22 Years and 3 Mo...|                   No|  49.57494921489417|        81.699521264648|Low_spent_Medium_...| 331.2098628537912|        Good|\n",
            "|0x1605|  CUS_0xd40|   April|  Aaron Maashoh|  23|821-00-0265| Scientist|     19114.12|                 NULL|                3|              4|            3|          4|Auto Loan, Credit...|                  5|                     4|                6.27|                 4.0|      Good|          809.98|      31.377861869582354|22 Years and 4 Mo...|                   No|  49.57494921489417|      199.4580743910713|Low_spent_Small_v...|223.45130972736786|        Good|\n",
            "|0x1606|  CUS_0xd40|     May|  Aaron Maashoh|  23|821-00-0265| Scientist|     19114.12|   1824.8433333333328|                3|              4|            3|          4|Auto Loan, Credit...|                  6|                  NULL|               11.27|                 4.0|      Good|          809.98|      24.797346908844986|22 Years and 5 Mo...|                   No|  49.57494921489417|     41.420153086217326|High_spent_Medium...|341.48923103222177|        Good|\n",
            "|0x1607|  CUS_0xd40|    June|  Aaron Maashoh|  23|821-00-0265| Scientist|     19114.12|                 NULL|                3|              4|            3|          4|Auto Loan, Credit...|                  8|                     4|                9.27|                 4.0|      Good|          809.98|       27.26225871052017|22 Years and 6 Mo...|                   No|  49.57494921489417|     62.430172331195294|              !@9#%8| 340.4792117872438|        Good|\n",
            "|0x1608|  CUS_0xd40|    July|  Aaron Maashoh|  23|821-00-0265| Scientist|     19114.12|   1824.8433333333328|                3|              4|            3|          4|Auto Loan, Credit...|                  3|                    8_|               11.27|                 4.0|      Good|          809.98|       22.53759303178384|22 Years and 7 Mo...|                   No|  49.57494921489417|      178.3440674122349|Low_spent_Small_v...| 244.5653167062043|        Good|\n",
            "|0x1609|  CUS_0xd40|  August|           NULL|  23|  #F%$D@*&8| Scientist|     19114.12|   1824.8433333333328|                3|              4|            3|          4|Auto Loan, Credit...|                  3|                     6|               11.27|                 4.0|      Good|          809.98|       23.93379480196552|                  NA|                   No|  49.57494921489417|     24.785216509052056|High_spent_Medium...|358.12416760938714|    Standard|\n",
            "|0x160e| CUS_0x21b1| January|Rick Rothackerj| 28_|004-07-5839|   _______|     34847.84|    3037.986666666666|                2|              4|            6|          1| Credit-Builder Loan|                  3|                     4|                5.42|                 2.0|      Good|          605.03|       24.46403063758457|26 Years and 7 Mo...|                   No| 18.816214573128885|       104.291825168246|Low_spent_Small_v...|470.69062692529184|    Standard|\n",
            "|0x160f| CUS_0x21b1|February|Rick Rothackerj|  28|004-07-5839|   Teacher|     34847.84|    3037.986666666666|                2|              4|            6|          1| Credit-Builder Loan|                  7|                     1|                7.42|                 2.0|      Good|          605.03|      38.550848433956325|26 Years and 8 Mo...|                   No| 18.816214573128885|      40.39123782853101|High_spent_Large_...| 484.5912142650067|        Good|\n",
            "|0x1610| CUS_0x21b1|   March|Rick Rothackerj|  28|004-07-5839|   Teacher|    34847.84_|    3037.986666666666|                2|           1385|            6|          1| Credit-Builder Loan|                  3|                    -1|                5.42|                 2.0|         _|          605.03|       33.22495078663659|26 Years and 9 Mo...|                   No| 18.816214573128885|      58.51597569589465|High_spent_Large_...|466.46647639764313|    Standard|\n",
            "|0x1611| CUS_0x21b1|   April|Rick Rothackerj|  28|004-07-5839|   Teacher|     34847.84|                 NULL|                2|              4|            6|          1| Credit-Builder Loan|                  3|                    3_|                5.42|                 2.0|      Good|          605.03|       39.18265565546884|26 Years and 10 M...|                   No| 18.816214573128885|      99.30622796053305|Low_spent_Medium_...| 465.6762241330048|        Good|\n",
            "|0x1612| CUS_0x21b1|     May|Rick Rothackerj|  28|004-07-5839|   Teacher|     34847.84|    3037.986666666666|                2|              4|            6|          1| Credit-Builder Loan|                  3|                     1|                6.42|                 2.0|      Good|          605.03|       34.97789474709241|26 Years and 11 M...|                   No| 18.816214573128885|     130.11542024292334|Low_spent_Small_v...| 444.8670318506144|        Good|\n",
            "|0x1613| CUS_0x21b1|    June|Rick Rothackerj|  28|004-07-5839|   Teacher|     34847.84|    3037.986666666666|                2|              4|            6|          1| Credit-Builder Loan|                  3|                     0|                5.42|                 2.0|      Good|          605.03|       33.38101020065065|27 Years and 0 Mo...|                   No| 18.816214573128885|     43.477190144355745|High_spent_Large_...|  481.505261949182|        Good|\n",
            "|0x1614| CUS_0x21b1|    July|Rick Rothackerj|  28|004-07-5839|   Teacher|     34847.84|                 NULL|                2|              4|            6|          1| Credit-Builder Loan|                  3|                     4|                5.42|                 2.0|      Good|          605.03|      31.131701611553307|27 Years and 1 Mo...|                   NM| 18.816214573128885|      70.10177420755677|High_spent_Medium...| 464.8806778859809|        Good|\n",
            "|0x1615| CUS_0x21b1|  August|Rick Rothackerj|  28|004-07-5839|   Teacher|     34847.84|    3037.986666666666|                2|              4|            6|          1| Credit-Builder Loan|                  3|                     4|                5.42|                 2.0|      Good|          605.03|      32.933856293622235|27 Years and 2 Mo...|                   No| 18.816214573128885|     218.90434353388733|Low_spent_Small_v...|356.07810855965045|        Good|\n",
            "|0x161a| CUS_0x2dbc| January|         Langep|  34|486-85-3974|   _______|    143162.64|             12187.22|                1|              5|            8|          3|Auto Loan, Auto L...|                  5|                     8|                 7.1|                 3.0|      Good|         1303.01|      28.616734823006844|17 Years and 9 Mo...|                   No|  246.9923194537421|       168.413702679309|              !@9#%8|1043.3159778669492|        Good|\n",
            "|0x161b| CUS_0x2dbc|February|           NULL|  34|486-85-3974|  Engineer|    143162.64|             12187.22|                1|              5|            8|          3|Auto Loan, Auto L...|                 13|                     6|                 7.1|                 3.0|      Good|         1303.01|       41.70257342393906|17 Years and 10 M...|                   No|  246.9923194537421|     232.86038375993544|High_spent_Small_...| 998.8692967863226|        Good|\n",
            "|0x161c| CUS_0x2dbc|   March|         Langep|  34|486-85-3974|   _______|    143162.64|                 NULL|                1|              5|            8|          3|Auto Loan, Auto L...|                  8|                     7|                11.1|                NULL|      Good|         1303.01|      26.519815391546498|17 Years and 11 M...|                   No|  246.9923194537421|              __10000__|High_spent_Small_...|  715.741367403555|        Good|\n",
            "|0x161d| CUS_0x2dbc|   April|         Langep|  34|486-85-3974|  Engineer|    143162.64|             12187.22|                1|              5|            8|          3|Auto Loan, Auto L...|                  8|                     5|                 9.1|                 3.0|         _|         1303.01|       39.50164810812735|                  NA|                   No|  246.9923194537421|      825.2162699393922|Low_spent_Medium_...| 426.5134106068658|        Good|\n",
            "+------+-----------+--------+---------------+----+-----------+----------+-------------+---------------------+-----------------+---------------+-------------+-----------+--------------------+-------------------+----------------------+--------------------+--------------------+----------+----------------+------------------------+--------------------+---------------------+-------------------+-----------------------+--------------------+------------------+------------+\n",
            "only showing top 20 rows\n",
            "\n"
          ]
        }
      ]
    },
    {
      "cell_type": "code",
      "source": [
        "# Cleaning dle SSN\n",
        "\n",
        "prepsat_ssn_value = \"#F%$D@*&8\"\n",
        "colums_doplnit = [\"Customer_ID\", \"Name\", \"Occupation\", \"SSN\", \"Age\"]\n",
        "window_part = Window.partitionBy(\"Customer_ID\")\n",
        "\n",
        "df_filled = df_train.withColumn(\n",
        "    \"Name\", when(col(\"Name\").isNull(), first(\"Name\", True).over(window_part)).otherwise(col(\"Name\"))\n",
        ").withColumn(\n",
        "    \"Occupation\", when(col(\"Occupation\").isNull(), first(\"Occupation\", True).over(window_part)).otherwise(col(\"Occupation\"))\n",
        ").withColumn(\n",
        "    \"SSN\",\n",
        "    when((col(\"SSN\").isNull()) | (col(\"SSN\") == prepsat_ssn_value), first(when(col(\"SSN\") != prepsat_ssn_value, col(\"SSN\")), True).over(window_part)).otherwise(col(\"SSN\"))\n",
        ").withColumn(\n",
        "    \"Age\", when(col(\"Age\").isNull(), first(\"Age\", True).over(window_part)).otherwise(col(\"Age\"))\n",
        ")\n",
        "\n",
        "df_filled.show()"
      ],
      "metadata": {
        "id": "47IWMZ7IW3DB",
        "colab": {
          "base_uri": "https://localhost:8080/"
        },
        "outputId": "bfad8565-fa45-4687-d149-97933dbf4aad"
      },
      "execution_count": 93,
      "outputs": [
        {
          "output_type": "stream",
          "name": "stdout",
          "text": [
            "+-------+-----------+--------+--------------+---+-----------+-------------+------------------+---------------------+-----------------+---------------+-------------+-----------+--------------------+-------------------+----------------------+--------------------+--------------------+----------+----------------+------------------------+--------------------+---------------------+-------------------+-----------------------+--------------------+------------------+------------+\n",
            "|     ID|Customer_ID|   Month|          Name|Age|        SSN|   Occupation|     Annual_Income|Monthly_Inhand_Salary|Num_Bank_Accounts|Num_Credit_Card|Interest_Rate|Num_of_Loan|        Type_of_Loan|Delay_from_due_date|Num_of_Delayed_Payment|Changed_Credit_Limit|Num_Credit_Inquiries|Credit_Mix|Outstanding_Debt|Credit_Utilization_Ratio|  Credit_History_Age|Payment_of_Min_Amount|Total_EMI_per_month|Amount_invested_monthly|   Payment_Behaviour|   Monthly_Balance|Credit_Score|\n",
            "+-------+-----------+--------+--------------+---+-----------+-------------+------------------+---------------------+-----------------+---------------+-------------+-----------+--------------------+-------------------+----------------------+--------------------+--------------------+----------+----------------+------------------------+--------------------+---------------------+-------------------+-----------------------+--------------------+------------------+------------+\n",
            "|0x1628a| CUS_0x1000| January|Alistair Barrf| 17|913-74-1218|       Lawyer|          30625.94|   2706.1616666666664|                6|              5|           27|          2|Credit-Builder Lo...|                 62|                    25|                1.63|                10.0|       Bad|         1562.91|       26.61209308705014|10 Years and 2 Mo...|                  Yes| 42.941090422469365|     244.75028300769162|Low_spent_Large_v...| 252.9247932365056|    Standard|\n",
            "|0x1628b| CUS_0x1000|February|Alistair Barrf| 17|913-74-1218|       Lawyer|          30625.94|                 NULL|                6|              5|           27|          2|Credit-Builder Lo...|                 62|                    23|                1.63|                11.0|       Bad|         1562.91|       29.43975901225789|10 Years and 3 Mo...|                  Yes| 42.941090422469365|     176.13256665597928|High_spent_Small_...|  311.542509588218|        Poor|\n",
            "|0x1628c| CUS_0x1000|   March|Alistair Barrf|17_|913-74-1218|       Lawyer|         30625.94_|   2706.1616666666664|                6|              5|           27|          2|Credit-Builder Lo...|                 62|                    28|                1.63|                11.0|       Bad|         1562.91|       38.28592798573864|10 Years and 4 Mo...|                  Yes| 42.941090422469365|     109.05651876486915|High_spent_Medium...|368.61855747932816|        Poor|\n",
            "|0x1628d| CUS_0x1000|   April|Alistair Barrf| 17|913-74-1218|       Lawyer|          30625.94|   2706.1616666666664|                6|              5|           27|          2|Credit-Builder Lo...|                 64|                    25|                1.63|                11.0|       Bad|         1562.91|       32.84308125222974|10 Years and 5 Mo...|                  Yes| 42.941090422469365|      87.90990881495769|              !@9#%8| 419.7651674292397|        Poor|\n",
            "|0x1628e| CUS_0x1000|     May|Alistair Barrf| 17|913-74-1218|       Lawyer|          30625.94|   2706.1616666666664|                6|              5|           27|          2|Credit-Builder Lo...|                 67|                    25|                2.63|                11.0|       Bad|         1562.91|       32.33050816679796|10 Years and 6 Mo...|                  Yes| 42.941090422469365|      191.8347674990596|Low_spent_Large_v...| 305.8403087451377|        Poor|\n",
            "|0x1628f| CUS_0x1000|    June|Alistair Barrf| 18|913-74-1218|       Lawyer|          30625.94|   2706.1616666666664|                6|              5|           27|          2|Credit-Builder Lo...|                 62|                    23|                1.63|                11.0|       Bad|         1562.91|      40.082272108258884|10 Years and 7 Mo...|                  Yes| 42.941090422469365|     114.80240059146288|High_spent_Small_...|372.87267565273436|        Poor|\n",
            "|0x16290| CUS_0x1000|    July|Alistair Barrf| 18|913-74-1218|       Lawyer|          30625.94|   2706.1616666666664|                6|              5|           27|          2|Credit-Builder Lo...|                 62|                    25|                2.63|                11.0|       Bad|         1562.91|      38.149538780137746|10 Years and 8 Mo...|                  Yes| 42.941090422469365|     266.59716045509043|Low_spent_Small_v...| 251.0779157891069|        Poor|\n",
            "|0x16291| CUS_0x1000|  August|Alistair Barrf| 18|913-74-1218|       Lawyer|          30625.94|   2706.1616666666664|                6|              5|           27|          2|Credit-Builder Lo...|                 57|                    26|                1.63|                11.0|       Bad|         1562.91|       30.07719135017377|10 Years and 9 Mo...|                  Yes| 42.941090422469365|      77.31427572208112|High_spent_Medium...|400.36080052211616|        Poor|\n",
            "| 0x66a2| CUS_0x1009| January|        Arunah| 25|063-67-6938|     Mechanic|          52312.68|              4250.39|                6|              5|           17|          4|Not Specified, Ho...|                  8|                  1749|                9.73|                 2.0|  Standard|          202.68|      23.679533922643838|30 Years and 5 Mo...|                   NM| 108.36646712525564|      261.2109793689318|Low_spent_Medium_...| 335.4615535058126|    Standard|\n",
            "| 0x66a3| CUS_0x1009|February|        Arunah| 25|063-67-6938|     Mechanic|          52312.68|              4250.39|                6|              5|           17|          4|Not Specified, Ho...|                  8|                    16|                9.73|                 2.0|  Standard|          202.68|      28.451198540387306|30 Years and 6 Mo...|                  Yes| 108.36646712525564|      142.4647303239083|High_spent_Medium...|424.20780255083616|    Standard|\n",
            "| 0x66a4| CUS_0x1009|   March|        Arunah| 26|063-67-6938|     Mechanic|          52312.68|              4250.39|                6|              5|           17|         4_|Not Specified, Ho...|                  8|                    18|                9.73|                 2.0|  Standard|          202.68|       26.37198188766116|30 Years and 7 Mo...|                  Yes| 108.36646712525564|      162.7830849440951|High_spent_Medium...| 403.8894479306493|    Standard|\n",
            "| 0x66a5| CUS_0x1009|   April|        Arunah| 26|063-67-6938|     Mechanic|          52312.68|              4250.39|                6|              5|           17|       1094|Not Specified, Ho...|                 10|                    18|                9.73|                 2.0|         _|         202.68_|       24.99623888468216|                  NA|                  Yes| 108.36646712525564|      171.4504427290597|High_spent_Small_...|405.22209014568483|    Standard|\n",
            "| 0x66a6| CUS_0x1009|     May|        Arunah| 26|063-67-6938|     Mechanic|          52312.68|              4250.39|                6|              5|           17|          4|Not Specified, Ho...|                  8|                    19|                9.73|                 4.0|         _|          202.68|       30.38181446769299|30 Years and 9 Mo...|                  Yes| 108.36646712525564|      70.92860618916454|High_spent_Medium...|495.74392668557994|    Standard|\n",
            "| 0x66a7| CUS_0x1009|    June|        Arunah| 26|063-67-6938|      _______|          52312.68|              4250.39|                6|              5|           17|          4|Not Specified, Ho...|                  3|                    18|                9.73|                 4.0|  Standard|          202.68|      30.608989855632352|30 Years and 10 M...|                  Yes| 108.36646712525564|     150.79593432594388|              !@9#%8|445.87659854880053|    Standard|\n",
            "| 0x66a8| CUS_0x1009|    July|        Arunah| 26|063-67-6938|     Mechanic|          52312.68|              4250.39|                6|              5|           17|          4|Not Specified, Ho...|                  8|                    18|                9.73|                 4.0|  Standard|          202.68|      33.943117707644795|30 Years and 11 M...|                  Yes| 108.36646712525564|     155.14105344210978|High_spent_Medium...| 411.5314794326347|    Standard|\n",
            "| 0x66a9| CUS_0x1009|  August|        Arunah| 26|063-67-6938|     Mechanic|         52312.68_|              4250.39|                6|              5|           17|          4|Not Specified, Ho...|                  5|                    18|                9.73|                 4.0|         _|          202.68|         40.286996673783|31 Years and 0 Mo...|                  Yes| 108.36646712525564|      58.66019164829086|High_spent_Medium...|508.01234122645366|    Standard|\n",
            "| 0x1ef6| CUS_0x100b| January|      Shirboni| 18|238-62-0395|Media_Manager|113781.38999999998|            9549.7825|                1|              4|            1|          0|                NULL|                 14|                     7|               11.34|                 1.0|      Good|          1030.2|       37.99875980252553|15 Years and 3 Mo...|                   No|                0.0|     397.24184577026637|Low_spent_Medium_...| 837.7364042297336|        Poor|\n",
            "| 0x1ef7| CUS_0x100b|February|      Shirboni| 18|238-62-0395|Media_Manager|113781.38999999998|            9549.7825|                1|              4|            1|          0|                NULL|                 14|                     9|               11.34|              2271.0|         _|          1030.2|       35.94765528296622|                  NA|                   No|                0.0|      661.6240479398714|Low_spent_Large_v...| 563.3542020601286|        Poor|\n",
            "| 0x1ef8| CUS_0x100b|   March|      Shirboni| 18|238-62-0395|Media_Manager|113781.38999999998|                 NULL|                1|              4|            1|          0|                NULL|                 19|                     7|               11.34|                 1.0|      Good|          1030.2|      43.829630018622844|15 Years and 5 Mo...|                   No|                0.0|                   NULL|High_spent_Large_...| 962.5677054168697|        Poor|\n",
            "| 0x1ef9| CUS_0x100b|   April|      Shirboni| 18|238-62-0395|Media_Manager|113781.38999999998|            9549.7825|                1|              4|            1|          0|                NULL|                 14|                     7|                   _|                 1.0|      Good|          1030.2|      31.016086286438927|15 Years and 6 Mo...|                   No|                0.0|              __10000__|High_spent_Large_...| 969.7201635239168|    Standard|\n",
            "+-------+-----------+--------+--------------+---+-----------+-------------+------------------+---------------------+-----------------+---------------+-------------+-----------+--------------------+-------------------+----------------------+--------------------+--------------------+----------+----------------+------------------------+--------------------+---------------------+-------------------+-----------------------+--------------------+------------------+------------+\n",
            "only showing top 20 rows\n",
            "\n"
          ]
        }
      ]
    },
    {
      "cell_type": "code",
      "source": [
        "# prompt: Show combinations of Customer_ID and SSN where single SSN is mapped to multiple different Customer_ID values\n",
        "\n",
        "from pyspark.sql.functions import count\n",
        "\n",
        "# Group by SSN and count the distinct Customer_IDs\n",
        "ssn_counts = df_filled.groupBy(\"SSN\").agg(count(\"Customer_ID\").alias(\"customer_count\"))\n",
        "\n",
        "# Filter for SSNs with more than one distinct Customer_ID\n",
        "multiple_customer_ids = ssn_counts.filter(\"customer_count > 1\")\n",
        "\n",
        "# Join with the original DataFrame to get the Customer_ID and SSN combinations\n",
        "result_df = multiple_customer_ids.join(df_filled, \"SSN\", \"inner\").select(\"Customer_ID\", \"SSN\")\n",
        "\n",
        "# Show the results\n",
        "result_df.show()"
      ],
      "metadata": {
        "colab": {
          "base_uri": "https://localhost:8080/"
        },
        "id": "BSFdG542YFFZ",
        "outputId": "6e880357-7bb2-451e-ca15-f323ca1cd4e7"
      },
      "execution_count": 74,
      "outputs": [
        {
          "output_type": "stream",
          "name": "stdout",
          "text": [
            "+-----------+-----------+\n",
            "|Customer_ID|        SSN|\n",
            "+-----------+-----------+\n",
            "| CUS_0x1000|913-74-1218|\n",
            "| CUS_0x1000|913-74-1218|\n",
            "| CUS_0x1000|913-74-1218|\n",
            "| CUS_0x1000|913-74-1218|\n",
            "| CUS_0x1000|913-74-1218|\n",
            "| CUS_0x1000|913-74-1218|\n",
            "| CUS_0x1000|913-74-1218|\n",
            "| CUS_0x1000|913-74-1218|\n",
            "| CUS_0x1009|063-67-6938|\n",
            "| CUS_0x1009|063-67-6938|\n",
            "| CUS_0x1009|063-67-6938|\n",
            "| CUS_0x1009|063-67-6938|\n",
            "| CUS_0x1009|063-67-6938|\n",
            "| CUS_0x1009|063-67-6938|\n",
            "| CUS_0x1009|063-67-6938|\n",
            "| CUS_0x1009|063-67-6938|\n",
            "| CUS_0x100b|238-62-0395|\n",
            "| CUS_0x100b|238-62-0395|\n",
            "| CUS_0x100b|238-62-0395|\n",
            "| CUS_0x100b|238-62-0395|\n",
            "+-----------+-----------+\n",
            "only showing top 20 rows\n",
            "\n"
          ]
        }
      ]
    },
    {
      "cell_type": "code",
      "source": [
        "# prompt: Find unique combinations of Customer_ID and SSN where a single SSN is mapped to multiple Customer_ID values\n",
        "\n",
        "from pyspark.sql.functions import count, col\n",
        "\n",
        "# Group by SSN and count the number of unique Customer_IDs\n",
        "ssn_counts = df_filled.groupBy(\"SSN\").agg(count(\"Customer_ID\").alias(\"customer_count\"))\n",
        "\n",
        "# Filter for SSNs with more than one Customer_ID\n",
        "multiple_customer_ssns = ssn_counts.filter(col(\"customer_count\") > 1)\n",
        "\n",
        "# Join with the original DataFrame to get the Customer_IDs associated with these SSNs\n",
        "result_df = multiple_customer_ssns.join(df_train, \"SSN\", \"inner\").select(\"Customer_ID\", \"SSN\")\n",
        "\n",
        "# Show the results\n",
        "result_df.orderBy(col(\"SSN\")).show()"
      ],
      "metadata": {
        "colab": {
          "base_uri": "https://localhost:8080/"
        },
        "id": "MEXCDIUqWHkt",
        "outputId": "91640b82-9ee2-43bd-a629-8b3627ffb52f"
      },
      "execution_count": 75,
      "outputs": [
        {
          "output_type": "stream",
          "name": "stdout",
          "text": [
            "+-----------+-----------+\n",
            "|Customer_ID|        SSN|\n",
            "+-----------+-----------+\n",
            "| CUS_0x1e84|000-08-1349|\n",
            "| CUS_0x1e84|000-08-1349|\n",
            "| CUS_0x1e84|000-08-1349|\n",
            "| CUS_0x1e84|000-08-1349|\n",
            "| CUS_0x1e84|000-08-1349|\n",
            "| CUS_0x1e84|000-08-1349|\n",
            "| CUS_0x1e84|000-08-1349|\n",
            "| CUS_0x1e84|000-08-1349|\n",
            "| CUS_0x11a4|000-40-3312|\n",
            "| CUS_0x11a4|000-40-3312|\n",
            "| CUS_0x11a4|000-40-3312|\n",
            "| CUS_0x11a4|000-40-3312|\n",
            "| CUS_0x11a4|000-40-3312|\n",
            "| CUS_0x11a4|000-40-3312|\n",
            "| CUS_0x11a4|000-40-3312|\n",
            "| CUS_0x11a4|000-40-3312|\n",
            "| CUS_0x1383|000-58-0568|\n",
            "| CUS_0x1383|000-58-0568|\n",
            "| CUS_0x1383|000-58-0568|\n",
            "| CUS_0x1383|000-58-0568|\n",
            "+-----------+-----------+\n",
            "only showing top 20 rows\n",
            "\n"
          ]
        }
      ]
    },
    {
      "cell_type": "markdown",
      "source": [
        "# Clean up underscores"
      ],
      "metadata": {
        "id": "haYkOBmJTbBR"
      }
    },
    {
      "cell_type": "code",
      "source": [
        "def find_underscore_columns(spark_df):\n",
        "\n",
        "    underscore_columns = []\n",
        "    for col in spark_df.columns:\n",
        "        # Check if column is of string type\n",
        "        if isinstance(spark_df.schema[col].dataType, (StringType)): # Use the imported StringType\n",
        "          # Convert the column to pandas series to enable string functions\n",
        "          pandas_series = spark_df.select(col).toPandas()[col]\n",
        "          if any('_' in str(x) for x in pandas_series):\n",
        "            underscore_columns.append(col)\n",
        "\n",
        "    return underscore_columns\n",
        "\n",
        "# Example usage (assuming df_train is your DataFrame)\n",
        "underscore_cols = find_underscore_columns(df_filled)\n",
        "\n",
        "# Remove 'Customer_ID' if present\n",
        "if 'Customer_ID' in underscore_cols:\n",
        "    underscore_cols.remove('Customer_ID')\n",
        "\n",
        "underscore_cols"
      ],
      "metadata": {
        "colab": {
          "base_uri": "https://localhost:8080/"
        },
        "id": "EwppUOzTSPwg",
        "outputId": "544cf3eb-d4b8-420b-ec9a-25916dd658fc"
      },
      "execution_count": 76,
      "outputs": [
        {
          "output_type": "execute_result",
          "data": {
            "text/plain": [
              "['Age',\n",
              " 'Occupation',\n",
              " 'Annual_Income',\n",
              " 'Num_of_Loan',\n",
              " 'Num_of_Delayed_Payment',\n",
              " 'Changed_Credit_Limit',\n",
              " 'Credit_Mix',\n",
              " 'Outstanding_Debt',\n",
              " 'Amount_invested_monthly',\n",
              " 'Payment_Behaviour',\n",
              " 'Monthly_Balance']"
            ]
          },
          "metadata": {},
          "execution_count": 76
        }
      ]
    },
    {
      "cell_type": "code",
      "source": [
        "from pyspark.sql.functions import regexp_replace\n",
        "\n",
        "def remove_underscores_from_columns(spark_df, cols_to_modify):\n",
        "    new_df = spark_df\n",
        "    for col in cols_to_modify:\n",
        "        new_df = new_df.withColumn(col, regexp_replace(col, \"_\", \"\"))\n",
        "    return new_df\n",
        "\n",
        "new_df_train = remove_underscores_from_columns(df_filled, underscore_cols)\n",
        "new_df_train.show()"
      ],
      "metadata": {
        "colab": {
          "base_uri": "https://localhost:8080/"
        },
        "id": "i3hzUDXSRc6e",
        "outputId": "e9d4c4ae-1445-41e1-f419-567a12ba9d4c"
      },
      "execution_count": 77,
      "outputs": [
        {
          "output_type": "stream",
          "name": "stdout",
          "text": [
            "+-------+-----------+--------+--------------+---+-----------+------------+------------------+---------------------+-----------------+---------------+-------------+-----------+--------------------+-------------------+----------------------+--------------------+--------------------+----------+----------------+------------------------+--------------------+---------------------+-------------------+-----------------------+--------------------+------------------+------------+\n",
            "|     ID|Customer_ID|   Month|          Name|Age|        SSN|  Occupation|     Annual_Income|Monthly_Inhand_Salary|Num_Bank_Accounts|Num_Credit_Card|Interest_Rate|Num_of_Loan|        Type_of_Loan|Delay_from_due_date|Num_of_Delayed_Payment|Changed_Credit_Limit|Num_Credit_Inquiries|Credit_Mix|Outstanding_Debt|Credit_Utilization_Ratio|  Credit_History_Age|Payment_of_Min_Amount|Total_EMI_per_month|Amount_invested_monthly|   Payment_Behaviour|   Monthly_Balance|Credit_Score|\n",
            "+-------+-----------+--------+--------------+---+-----------+------------+------------------+---------------------+-----------------+---------------+-------------+-----------+--------------------+-------------------+----------------------+--------------------+--------------------+----------+----------------+------------------------+--------------------+---------------------+-------------------+-----------------------+--------------------+------------------+------------+\n",
            "|0x1628a| CUS_0x1000| January|Alistair Barrf| 17|913-74-1218|      Lawyer|          30625.94|   2706.1616666666664|                6|              5|           27|          2|Credit-Builder Lo...|                 62|                    25|                1.63|                10.0|       Bad|         1562.91|       26.61209308705014|10 Years and 2 Mo...|                  Yes| 42.941090422469365|     244.75028300769162|LowspentLargevalu...| 252.9247932365056|    Standard|\n",
            "|0x1628b| CUS_0x1000|February|Alistair Barrf| 17|913-74-1218|      Lawyer|          30625.94|                 NULL|                6|              5|           27|          2|Credit-Builder Lo...|                 62|                    23|                1.63|                11.0|       Bad|         1562.91|       29.43975901225789|10 Years and 3 Mo...|                  Yes| 42.941090422469365|     176.13256665597928|HighspentSmallval...|  311.542509588218|        Poor|\n",
            "|0x1628c| CUS_0x1000|   March|Alistair Barrf| 17|913-74-1218|      Lawyer|          30625.94|   2706.1616666666664|                6|              5|           27|          2|Credit-Builder Lo...|                 62|                    28|                1.63|                11.0|       Bad|         1562.91|       38.28592798573864|10 Years and 4 Mo...|                  Yes| 42.941090422469365|     109.05651876486915|HighspentMediumva...|368.61855747932816|        Poor|\n",
            "|0x1628d| CUS_0x1000|   April|Alistair Barrf| 17|913-74-1218|      Lawyer|          30625.94|   2706.1616666666664|                6|              5|           27|          2|Credit-Builder Lo...|                 64|                    25|                1.63|                11.0|       Bad|         1562.91|       32.84308125222974|10 Years and 5 Mo...|                  Yes| 42.941090422469365|      87.90990881495769|              !@9#%8| 419.7651674292397|        Poor|\n",
            "|0x1628e| CUS_0x1000|     May|Alistair Barrf| 17|913-74-1218|      Lawyer|          30625.94|   2706.1616666666664|                6|              5|           27|          2|Credit-Builder Lo...|                 67|                    25|                2.63|                11.0|       Bad|         1562.91|       32.33050816679796|10 Years and 6 Mo...|                  Yes| 42.941090422469365|      191.8347674990596|LowspentLargevalu...| 305.8403087451377|        Poor|\n",
            "|0x1628f| CUS_0x1000|    June|Alistair Barrf| 18|913-74-1218|      Lawyer|          30625.94|   2706.1616666666664|                6|              5|           27|          2|Credit-Builder Lo...|                 62|                    23|                1.63|                11.0|       Bad|         1562.91|      40.082272108258884|10 Years and 7 Mo...|                  Yes| 42.941090422469365|     114.80240059146288|HighspentSmallval...|372.87267565273436|        Poor|\n",
            "|0x16290| CUS_0x1000|    July|Alistair Barrf| 18|913-74-1218|      Lawyer|          30625.94|   2706.1616666666664|                6|              5|           27|          2|Credit-Builder Lo...|                 62|                    25|                2.63|                11.0|       Bad|         1562.91|      38.149538780137746|10 Years and 8 Mo...|                  Yes| 42.941090422469365|     266.59716045509043|LowspentSmallvalu...| 251.0779157891069|        Poor|\n",
            "|0x16291| CUS_0x1000|  August|Alistair Barrf| 18|913-74-1218|      Lawyer|          30625.94|   2706.1616666666664|                6|              5|           27|          2|Credit-Builder Lo...|                 57|                    26|                1.63|                11.0|       Bad|         1562.91|       30.07719135017377|10 Years and 9 Mo...|                  Yes| 42.941090422469365|      77.31427572208112|HighspentMediumva...|400.36080052211616|        Poor|\n",
            "| 0x66a2| CUS_0x1009| January|        Arunah| 25|063-67-6938|    Mechanic|          52312.68|              4250.39|                6|              5|           17|          4|Not Specified, Ho...|                  8|                  1749|                9.73|                 2.0|  Standard|          202.68|      23.679533922643838|30 Years and 5 Mo...|                   NM| 108.36646712525564|      261.2109793689318|LowspentMediumval...| 335.4615535058126|    Standard|\n",
            "| 0x66a3| CUS_0x1009|February|        Arunah| 25|063-67-6938|    Mechanic|          52312.68|              4250.39|                6|              5|           17|          4|Not Specified, Ho...|                  8|                    16|                9.73|                 2.0|  Standard|          202.68|      28.451198540387306|30 Years and 6 Mo...|                  Yes| 108.36646712525564|      142.4647303239083|HighspentMediumva...|424.20780255083616|    Standard|\n",
            "| 0x66a4| CUS_0x1009|   March|        Arunah| 26|063-67-6938|    Mechanic|          52312.68|              4250.39|                6|              5|           17|          4|Not Specified, Ho...|                  8|                    18|                9.73|                 2.0|  Standard|          202.68|       26.37198188766116|30 Years and 7 Mo...|                  Yes| 108.36646712525564|      162.7830849440951|HighspentMediumva...| 403.8894479306493|    Standard|\n",
            "| 0x66a5| CUS_0x1009|   April|        Arunah| 26|063-67-6938|    Mechanic|          52312.68|              4250.39|                6|              5|           17|       1094|Not Specified, Ho...|                 10|                    18|                9.73|                 2.0|          |          202.68|       24.99623888468216|                  NA|                  Yes| 108.36646712525564|      171.4504427290597|HighspentSmallval...|405.22209014568483|    Standard|\n",
            "| 0x66a6| CUS_0x1009|     May|        Arunah| 26|063-67-6938|    Mechanic|          52312.68|              4250.39|                6|              5|           17|          4|Not Specified, Ho...|                  8|                    19|                9.73|                 4.0|          |          202.68|       30.38181446769299|30 Years and 9 Mo...|                  Yes| 108.36646712525564|      70.92860618916454|HighspentMediumva...|495.74392668557994|    Standard|\n",
            "| 0x66a7| CUS_0x1009|    June|        Arunah| 26|063-67-6938|            |          52312.68|              4250.39|                6|              5|           17|          4|Not Specified, Ho...|                  3|                    18|                9.73|                 4.0|  Standard|          202.68|      30.608989855632352|30 Years and 10 M...|                  Yes| 108.36646712525564|     150.79593432594388|              !@9#%8|445.87659854880053|    Standard|\n",
            "| 0x66a8| CUS_0x1009|    July|        Arunah| 26|063-67-6938|    Mechanic|          52312.68|              4250.39|                6|              5|           17|          4|Not Specified, Ho...|                  8|                    18|                9.73|                 4.0|  Standard|          202.68|      33.943117707644795|30 Years and 11 M...|                  Yes| 108.36646712525564|     155.14105344210978|HighspentMediumva...| 411.5314794326347|    Standard|\n",
            "| 0x66a9| CUS_0x1009|  August|        Arunah| 26|063-67-6938|    Mechanic|          52312.68|              4250.39|                6|              5|           17|          4|Not Specified, Ho...|                  5|                    18|                9.73|                 4.0|          |          202.68|         40.286996673783|31 Years and 0 Mo...|                  Yes| 108.36646712525564|      58.66019164829086|HighspentMediumva...|508.01234122645366|    Standard|\n",
            "| 0x1ef6| CUS_0x100b| January|      Shirboni| 18|238-62-0395|MediaManager|113781.38999999998|            9549.7825|                1|              4|            1|          0|                NULL|                 14|                     7|               11.34|                 1.0|      Good|          1030.2|       37.99875980252553|15 Years and 3 Mo...|                   No|                0.0|     397.24184577026637|LowspentMediumval...| 837.7364042297336|        Poor|\n",
            "| 0x1ef7| CUS_0x100b|February|      Shirboni| 18|238-62-0395|MediaManager|113781.38999999998|            9549.7825|                1|              4|            1|          0|                NULL|                 14|                     9|               11.34|              2271.0|          |          1030.2|       35.94765528296622|                  NA|                   No|                0.0|      661.6240479398714|LowspentLargevalu...| 563.3542020601286|        Poor|\n",
            "| 0x1ef8| CUS_0x100b|   March|      Shirboni| 18|238-62-0395|MediaManager|113781.38999999998|                 NULL|                1|              4|            1|          0|                NULL|                 19|                     7|               11.34|                 1.0|      Good|          1030.2|      43.829630018622844|15 Years and 5 Mo...|                   No|                0.0|                   NULL|HighspentLargeval...| 962.5677054168697|        Poor|\n",
            "| 0x1ef9| CUS_0x100b|   April|      Shirboni| 18|238-62-0395|MediaManager|113781.38999999998|            9549.7825|                1|              4|            1|          0|                NULL|                 14|                     7|                    |                 1.0|      Good|          1030.2|      31.016086286438927|15 Years and 6 Mo...|                   No|                0.0|                  10000|HighspentLargeval...| 969.7201635239168|    Standard|\n",
            "+-------+-----------+--------+--------------+---+-----------+------------+------------------+---------------------+-----------------+---------------+-------------+-----------+--------------------+-------------------+----------------------+--------------------+--------------------+----------+----------------+------------------------+--------------------+---------------------+-------------------+-----------------------+--------------------+------------------+------------+\n",
            "only showing top 20 rows\n",
            "\n"
          ]
        }
      ]
    },
    {
      "cell_type": "markdown",
      "source": [
        "Clean from underscores"
      ],
      "metadata": {
        "id": "9EMnV2cLQbx5"
      }
    },
    {
      "cell_type": "markdown",
      "source": [
        "# Statistics for individual columns"
      ],
      "metadata": {
        "id": "kCkKLg4zZKbe"
      }
    },
    {
      "cell_type": "code",
      "source": [
        "# Identifikace numerických sloupců\n",
        "numerical_cols = [field.name for field in new_df_train.schema.fields if \"IntegerType\" in str(field.dataType) or \"DoubleType\" in str(field.dataType)]\n",
        "\n",
        "# Popis numerických sloupců\n",
        "for col_name in numerical_cols:\n",
        "    print(f\"Statistiky pro sloupec: {col_name}\")\n",
        "    new_df_train.select(col_name).describe().show()"
      ],
      "metadata": {
        "colab": {
          "base_uri": "https://localhost:8080/"
        },
        "id": "Sfq9tkH1ZEyR",
        "outputId": "fb022bb6-fcce-4648-d0f2-ca98f7e70d6f"
      },
      "execution_count": 78,
      "outputs": [
        {
          "output_type": "stream",
          "name": "stdout",
          "text": [
            "Statistiky pro sloupec: Monthly_Inhand_Salary\n",
            "+-------+---------------------+\n",
            "|summary|Monthly_Inhand_Salary|\n",
            "+-------+---------------------+\n",
            "|  count|                84998|\n",
            "|   mean|    4194.170849600515|\n",
            "| stddev|    3183.686166873265|\n",
            "|    min|    303.6454166666666|\n",
            "|    max|   15204.633333333333|\n",
            "+-------+---------------------+\n",
            "\n",
            "Statistiky pro sloupec: Num_Bank_Accounts\n",
            "+-------+-----------------+\n",
            "|summary|Num_Bank_Accounts|\n",
            "+-------+-----------------+\n",
            "|  count|           100000|\n",
            "|   mean|         17.09128|\n",
            "| stddev|117.4048344273482|\n",
            "|    min|               -1|\n",
            "|    max|             1798|\n",
            "+-------+-----------------+\n",
            "\n",
            "Statistiky pro sloupec: Num_Credit_Card\n",
            "+-------+------------------+\n",
            "|summary|   Num_Credit_Card|\n",
            "+-------+------------------+\n",
            "|  count|            100000|\n",
            "|   mean|          22.47443|\n",
            "| stddev|129.05741011009866|\n",
            "|    min|                 0|\n",
            "|    max|              1499|\n",
            "+-------+------------------+\n",
            "\n",
            "Statistiky pro sloupec: Interest_Rate\n",
            "+-------+------------------+\n",
            "|summary|     Interest_Rate|\n",
            "+-------+------------------+\n",
            "|  count|            100000|\n",
            "|   mean|          72.46604|\n",
            "| stddev|466.42262122171473|\n",
            "|    min|                 1|\n",
            "|    max|              5797|\n",
            "+-------+------------------+\n",
            "\n",
            "Statistiky pro sloupec: Delay_from_due_date\n",
            "+-------+-------------------+\n",
            "|summary|Delay_from_due_date|\n",
            "+-------+-------------------+\n",
            "|  count|             100000|\n",
            "|   mean|           21.06878|\n",
            "| stddev| 14.860104223678107|\n",
            "|    min|                 -5|\n",
            "|    max|                 67|\n",
            "+-------+-------------------+\n",
            "\n",
            "Statistiky pro sloupec: Num_Credit_Inquiries\n",
            "+-------+--------------------+\n",
            "|summary|Num_Credit_Inquiries|\n",
            "+-------+--------------------+\n",
            "|  count|               98035|\n",
            "|   mean|   27.75425103279441|\n",
            "| stddev|   193.1773389800326|\n",
            "|    min|                 0.0|\n",
            "|    max|              2597.0|\n",
            "+-------+--------------------+\n",
            "\n",
            "Statistiky pro sloupec: Credit_Utilization_Ratio\n",
            "+-------+------------------------+\n",
            "|summary|Credit_Utilization_Ratio|\n",
            "+-------+------------------------+\n",
            "|  count|                  100000|\n",
            "|   mean|      32.285172518943554|\n",
            "| stddev|       5.116875070150904|\n",
            "|    min|                    20.0|\n",
            "|    max|       50.00000000000001|\n",
            "+-------+------------------------+\n",
            "\n",
            "Statistiky pro sloupec: Total_EMI_per_month\n",
            "+-------+-------------------+\n",
            "|summary|Total_EMI_per_month|\n",
            "+-------+-------------------+\n",
            "|  count|             100000|\n",
            "|   mean| 1403.1182166159808|\n",
            "| stddev|  8306.041270321737|\n",
            "|    min|                0.0|\n",
            "|    max|            82331.0|\n",
            "+-------+-------------------+\n",
            "\n"
          ]
        }
      ]
    },
    {
      "cell_type": "markdown",
      "source": [
        "# Identify data types"
      ],
      "metadata": {
        "id": "7y9m83QFYXqP"
      }
    },
    {
      "cell_type": "code",
      "source": [
        "print(\"Data Types:\")\n",
        "new_df_train.printSchema()"
      ],
      "metadata": {
        "colab": {
          "base_uri": "https://localhost:8080/"
        },
        "id": "E7CrPGxNYZf2",
        "outputId": "368073b9-0412-4354-831f-0dbdef4d67a1"
      },
      "execution_count": 79,
      "outputs": [
        {
          "output_type": "stream",
          "name": "stdout",
          "text": [
            "Data Types:\n",
            "root\n",
            " |-- ID: string (nullable = true)\n",
            " |-- Customer_ID: string (nullable = true)\n",
            " |-- Month: string (nullable = true)\n",
            " |-- Name: string (nullable = true)\n",
            " |-- Age: string (nullable = true)\n",
            " |-- SSN: string (nullable = true)\n",
            " |-- Occupation: string (nullable = true)\n",
            " |-- Annual_Income: string (nullable = true)\n",
            " |-- Monthly_Inhand_Salary: double (nullable = true)\n",
            " |-- Num_Bank_Accounts: integer (nullable = true)\n",
            " |-- Num_Credit_Card: integer (nullable = true)\n",
            " |-- Interest_Rate: integer (nullable = true)\n",
            " |-- Num_of_Loan: string (nullable = true)\n",
            " |-- Type_of_Loan: string (nullable = true)\n",
            " |-- Delay_from_due_date: integer (nullable = true)\n",
            " |-- Num_of_Delayed_Payment: string (nullable = true)\n",
            " |-- Changed_Credit_Limit: string (nullable = true)\n",
            " |-- Num_Credit_Inquiries: double (nullable = true)\n",
            " |-- Credit_Mix: string (nullable = true)\n",
            " |-- Outstanding_Debt: string (nullable = true)\n",
            " |-- Credit_Utilization_Ratio: double (nullable = true)\n",
            " |-- Credit_History_Age: string (nullable = true)\n",
            " |-- Payment_of_Min_Amount: string (nullable = true)\n",
            " |-- Total_EMI_per_month: double (nullable = true)\n",
            " |-- Amount_invested_monthly: string (nullable = true)\n",
            " |-- Payment_Behaviour: string (nullable = true)\n",
            " |-- Monthly_Balance: string (nullable = true)\n",
            " |-- Credit_Score: string (nullable = true)\n",
            "\n"
          ]
        }
      ]
    },
    {
      "cell_type": "markdown",
      "source": [
        "# Basic statistics for numerical columns"
      ],
      "metadata": {
        "id": "U1fLSgcqYfjD"
      }
    },
    {
      "cell_type": "code",
      "source": [
        "new_df_train.describe().show()"
      ],
      "metadata": {
        "colab": {
          "base_uri": "https://localhost:8080/"
        },
        "id": "f8mj-LMkYgmh",
        "outputId": "18c012f6-dfc0-49dd-f1b0-e328d5a7f322"
      },
      "execution_count": 80,
      "outputs": [
        {
          "output_type": "stream",
          "name": "stdout",
          "text": [
            "+-------+-------+-----------+------+------+-----------------+-----------+----------+------------------+---------------------+------------------+------------------+------------------+-----------------+--------------------+-------------------+----------------------+--------------------+--------------------+----------+-----------------+------------------------+--------------------+---------------------+-------------------+-----------------------+--------------------+--------------------+------------+\n",
            "|summary|     ID|Customer_ID| Month|  Name|              Age|        SSN|Occupation|     Annual_Income|Monthly_Inhand_Salary| Num_Bank_Accounts|   Num_Credit_Card|     Interest_Rate|      Num_of_Loan|        Type_of_Loan|Delay_from_due_date|Num_of_Delayed_Payment|Changed_Credit_Limit|Num_Credit_Inquiries|Credit_Mix| Outstanding_Debt|Credit_Utilization_Ratio|  Credit_History_Age|Payment_of_Min_Amount|Total_EMI_per_month|Amount_invested_monthly|   Payment_Behaviour|     Monthly_Balance|Credit_Score|\n",
            "+-------+-------+-----------+------+------+-----------------+-----------+----------+------------------+---------------------+------------------+------------------+------------------+-----------------+--------------------+-------------------+----------------------+--------------------+--------------------+----------+-----------------+------------------------+--------------------+---------------------+-------------------+-----------------------+--------------------+--------------------+------------+\n",
            "|  count| 100000|     100000|100000|100000|           100000|     100000|    100000|            100000|                84998|            100000|            100000|            100000|           100000|               88592|             100000|                 92998|              100000|               98035|    100000|           100000|                  100000|              100000|               100000|             100000|                  95521|              100000|               98800|      100000|\n",
            "|   mean|   NULL|       NULL|  NULL|  NULL|         110.6497|       NULL|      NULL|176415.70129814788|    4194.170849600576|          17.09128|          22.47443|          72.46604|          3.00996|                NULL|           21.06878|    30.923342437471774|  10.389025115157946|   27.75425103279441|      NULL|1426.220376000011|       32.28517251894367|                NULL|                 NULL| 1403.1182166159867|      637.4129984078687|                NULL|-3.03643724696356...|        NULL|\n",
            "| stddev|   NULL|       NULL|  NULL|  NULL|686.2447166048136|       NULL|      NULL|1429618.0514141503|   3183.6861668732636|117.40483442734829|129.05741011009843|466.42262122171354|62.64787936048794|                NULL|   14.8601042236781|    226.03189164449955|   6.789496202377738|  193.17733898003274|      NULL|1155.129025746456|       5.116875070150894|                NULL|                 NULL|  8306.041270321733|     2043.3193274670139|                NULL|3.181295008384107E24|        NULL|\n",
            "|    min|0x10002| CUS_0x1000| April| Mattr|             -500|000-08-1349|          |        10001727.0|    303.6454166666666|                -1|                 0|                 1|             -100|           Auto Loan|                 -5|                    -1|                    |                 0.0|          |             0.23|                    20.0|0 Years and 1 Months|                   NM|                0.0|                    0.0|              !@9#%8|-3333333333333333...|        Good|\n",
            "|    max| 0xfffd|  CUS_0xffd|   May|    yv|              995|999-99-3421|    Writer|          99995.22|   15204.633333333333|              1798|              1499|              5797|              999|Student Loan, and...|                 67|                   996|                9.99|              2597.0|  Standard|           999.48|       50.00000000000001|                  NA|                  Yes|            82331.0|      999.8610676363429|LowspentSmallvalu...|   999.8134716639598|    Standard|\n",
            "+-------+-------+-----------+------+------+-----------------+-----------+----------+------------------+---------------------+------------------+------------------+------------------+-----------------+--------------------+-------------------+----------------------+--------------------+--------------------+----------+-----------------+------------------------+--------------------+---------------------+-------------------+-----------------------+--------------------+--------------------+------------+\n",
            "\n"
          ]
        }
      ]
    },
    {
      "cell_type": "markdown",
      "source": [
        "# Find duplicates"
      ],
      "metadata": {
        "id": "XMvGfNa3Ld1g"
      }
    },
    {
      "cell_type": "code",
      "source": [
        "df_duplicates = new_df_train.groupBy(df_train.columns).count().filter(\"count > 1\")\n",
        "df_duplicates.show()"
      ],
      "metadata": {
        "id": "m5_wYxN7Iu4t",
        "colab": {
          "base_uri": "https://localhost:8080/"
        },
        "outputId": "e002891f-8e9b-492f-939f-a0b2f172ef69"
      },
      "execution_count": 81,
      "outputs": [
        {
          "output_type": "stream",
          "name": "stdout",
          "text": [
            "+---+-----------+-----+----+---+---+----------+-------------+---------------------+-----------------+---------------+-------------+-----------+------------+-------------------+----------------------+--------------------+--------------------+----------+----------------+------------------------+------------------+---------------------+-------------------+-----------------------+-----------------+---------------+------------+-----+\n",
            "| ID|Customer_ID|Month|Name|Age|SSN|Occupation|Annual_Income|Monthly_Inhand_Salary|Num_Bank_Accounts|Num_Credit_Card|Interest_Rate|Num_of_Loan|Type_of_Loan|Delay_from_due_date|Num_of_Delayed_Payment|Changed_Credit_Limit|Num_Credit_Inquiries|Credit_Mix|Outstanding_Debt|Credit_Utilization_Ratio|Credit_History_Age|Payment_of_Min_Amount|Total_EMI_per_month|Amount_invested_monthly|Payment_Behaviour|Monthly_Balance|Credit_Score|count|\n",
            "+---+-----------+-----+----+---+---+----------+-------------+---------------------+-----------------+---------------+-------------+-----------+------------+-------------------+----------------------+--------------------+--------------------+----------+----------------+------------------------+------------------+---------------------+-------------------+-----------------------+-----------------+---------------+------------+-----+\n",
            "+---+-----------+-----+----+---+---+----------+-------------+---------------------+-----------------+---------------+-------------+-----------+------------+-------------------+----------------------+--------------------+--------------------+----------+----------------+------------------------+------------------+---------------------+-------------------+-----------------------+-----------------+---------------+------------+-----+\n",
            "\n"
          ]
        }
      ]
    },
    {
      "cell_type": "markdown",
      "source": [
        "# Find missing values"
      ],
      "metadata": {
        "id": "slSaRr4dUhgn"
      }
    },
    {
      "cell_type": "code",
      "source": [
        "from pyspark.sql.functions import col, sum\n",
        "\n",
        "missing_values = new_df_train.select([sum(col(c).isNull().cast(\"int\")).alias(c) for c in df_train.columns])\n",
        "missing_values.show()"
      ],
      "metadata": {
        "id": "-dCQUczdIw6Q",
        "colab": {
          "base_uri": "https://localhost:8080/"
        },
        "outputId": "00166d7b-0893-449d-c8e5-cf95ac0958b1"
      },
      "execution_count": 82,
      "outputs": [
        {
          "output_type": "stream",
          "name": "stdout",
          "text": [
            "+---+-----------+-----+----+---+---+----------+-------------+---------------------+-----------------+---------------+-------------+-----------+------------+-------------------+----------------------+--------------------+--------------------+----------+----------------+------------------------+------------------+---------------------+-------------------+-----------------------+-----------------+---------------+------------+\n",
            "| ID|Customer_ID|Month|Name|Age|SSN|Occupation|Annual_Income|Monthly_Inhand_Salary|Num_Bank_Accounts|Num_Credit_Card|Interest_Rate|Num_of_Loan|Type_of_Loan|Delay_from_due_date|Num_of_Delayed_Payment|Changed_Credit_Limit|Num_Credit_Inquiries|Credit_Mix|Outstanding_Debt|Credit_Utilization_Ratio|Credit_History_Age|Payment_of_Min_Amount|Total_EMI_per_month|Amount_invested_monthly|Payment_Behaviour|Monthly_Balance|Credit_Score|\n",
            "+---+-----------+-----+----+---+---+----------+-------------+---------------------+-----------------+---------------+-------------+-----------+------------+-------------------+----------------------+--------------------+--------------------+----------+----------------+------------------------+------------------+---------------------+-------------------+-----------------------+-----------------+---------------+------------+\n",
            "|  0|          0|    0|   0|  0|  0|         0|            0|                15002|                0|              0|            0|          0|       11408|                  0|                  7002|                   0|                1965|         0|               0|                       0|                 0|                    0|                  0|                   4479|                0|           1200|           0|\n",
            "+---+-----------+-----+----+---+---+----------+-------------+---------------------+-----------------+---------------+-------------+-----------+------------+-------------------+----------------------+--------------------+--------------------+----------+----------------+------------------------+------------------+---------------------+-------------------+-----------------------+-----------------+---------------+------------+\n",
            "\n"
          ]
        }
      ]
    },
    {
      "cell_type": "code",
      "source": [
        "from pyspark.sql.functions import col, when\n",
        "from pyspark.sql.types import DoubleType\n",
        "\n",
        "# Seznam sloupců, které chceme převést na číselné hodnoty\n",
        "numeric_columns = [\"Age\", \"Annual_Income\", \"Monthly_Inhand_Salary\",\n",
        "                   \"Num_Bank_Accounts\", \"Num_Credit_Card\", \"Interest_Rate\",\n",
        "                   \"Num_of_Loan\", \"Num_of_Delayed_Payment\",\n",
        "                   \"Changed_Credit_Limit\", \"Num_Credit_Inquiries\",\n",
        "                   \"Outstanding_Debt\", \"Credit_Utilization_Ratio\",\n",
        "                   \"Credit_History_Age\", \"Total_EMI_per_month\",\n",
        "                   \"Amount_invested_monthly\", \"Monthly_Balance\"]\n",
        "\n",
        "# Převod každého sloupce na číselný typ s ošetřením chybějících nebo neplatných hodnot\n",
        "for column in numeric_columns:\n",
        "    data = data.withColumn(column, col(column).cast(\"double\"))\n",
        "\n",
        "data.show()"
      ],
      "metadata": {
        "id": "SZjmShZMLx3b",
        "colab": {
          "base_uri": "https://localhost:8080/"
        },
        "outputId": "5242a7a5-520f-4b44-ad40-7c79e07e21f6"
      },
      "execution_count": 91,
      "outputs": [
        {
          "output_type": "stream",
          "name": "stdout",
          "text": [
            "+-------+-----------+--------+--------------+----+-----------+------------+------------------+---------------------+-----------------+---------------+-------------+-----------+--------------------+-------------------+----------------------+--------------------+--------------------+----------+----------------+------------------------+------------------+---------------------+-------------------+-----------------------+--------------------+------------------+------------+\n",
            "|     ID|Customer_ID|   Month|          Name| Age|        SSN|  Occupation|     Annual_Income|Monthly_Inhand_Salary|Num_Bank_Accounts|Num_Credit_Card|Interest_Rate|Num_of_Loan|        Type_of_Loan|Delay_from_due_date|Num_of_Delayed_Payment|Changed_Credit_Limit|Num_Credit_Inquiries|Credit_Mix|Outstanding_Debt|Credit_Utilization_Ratio|Credit_History_Age|Payment_of_Min_Amount|Total_EMI_per_month|Amount_invested_monthly|   Payment_Behaviour|   Monthly_Balance|Credit_Score|\n",
            "+-------+-----------+--------+--------------+----+-----------+------------+------------------+---------------------+-----------------+---------------+-------------+-----------+--------------------+-------------------+----------------------+--------------------+--------------------+----------+----------------+------------------------+------------------+---------------------+-------------------+-----------------------+--------------------+------------------+------------+\n",
            "|0x1628a| CUS_0x1000| January|Alistair Barrf|17.0|913-74-1218|      Lawyer|          30625.94|   2706.1616666666664|              6.0|            5.0|         27.0|        2.0|Credit-Builder Lo...|                 62|                  25.0|                1.63|                10.0|       Bad|         1562.91|       26.61209308705014|              NULL|                  Yes| 42.941090422469365|     244.75028300769162|LowspentLargevalu...| 252.9247932365056|    Standard|\n",
            "|0x1628b| CUS_0x1000|February|Alistair Barrf|17.0|913-74-1218|      Lawyer|          30625.94|                 NULL|              6.0|            5.0|         27.0|        2.0|Credit-Builder Lo...|                 62|                  23.0|                1.63|                11.0|       Bad|         1562.91|       29.43975901225789|              NULL|                  Yes| 42.941090422469365|     176.13256665597928|HighspentSmallval...|  311.542509588218|        Poor|\n",
            "|0x1628c| CUS_0x1000|   March|Alistair Barrf|17.0|913-74-1218|      Lawyer|          30625.94|   2706.1616666666664|              6.0|            5.0|         27.0|        2.0|Credit-Builder Lo...|                 62|                  28.0|                1.63|                11.0|       Bad|         1562.91|       38.28592798573864|              NULL|                  Yes| 42.941090422469365|     109.05651876486915|HighspentMediumva...|368.61855747932816|        Poor|\n",
            "|0x1628d| CUS_0x1000|   April|Alistair Barrf|17.0|913-74-1218|      Lawyer|          30625.94|   2706.1616666666664|              6.0|            5.0|         27.0|        2.0|Credit-Builder Lo...|                 64|                  25.0|                1.63|                11.0|       Bad|         1562.91|       32.84308125222974|              NULL|                  Yes| 42.941090422469365|      87.90990881495769|              !@9#%8| 419.7651674292397|        Poor|\n",
            "|0x1628e| CUS_0x1000|     May|Alistair Barrf|17.0|913-74-1218|      Lawyer|          30625.94|   2706.1616666666664|              6.0|            5.0|         27.0|        2.0|Credit-Builder Lo...|                 67|                  25.0|                2.63|                11.0|       Bad|         1562.91|       32.33050816679796|              NULL|                  Yes| 42.941090422469365|      191.8347674990596|LowspentLargevalu...| 305.8403087451377|        Poor|\n",
            "|0x1628f| CUS_0x1000|    June|Alistair Barrf|18.0|913-74-1218|      Lawyer|          30625.94|   2706.1616666666664|              6.0|            5.0|         27.0|        2.0|Credit-Builder Lo...|                 62|                  23.0|                1.63|                11.0|       Bad|         1562.91|      40.082272108258884|              NULL|                  Yes| 42.941090422469365|     114.80240059146288|HighspentSmallval...|372.87267565273436|        Poor|\n",
            "|0x16290| CUS_0x1000|    July|Alistair Barrf|18.0|913-74-1218|      Lawyer|          30625.94|   2706.1616666666664|              6.0|            5.0|         27.0|        2.0|Credit-Builder Lo...|                 62|                  25.0|                2.63|                11.0|       Bad|         1562.91|      38.149538780137746|              NULL|                  Yes| 42.941090422469365|     266.59716045509043|LowspentSmallvalu...| 251.0779157891069|        Poor|\n",
            "|0x16291| CUS_0x1000|  August|Alistair Barrf|18.0|913-74-1218|      Lawyer|          30625.94|   2706.1616666666664|              6.0|            5.0|         27.0|        2.0|Credit-Builder Lo...|                 57|                  26.0|                1.63|                11.0|       Bad|         1562.91|       30.07719135017377|              NULL|                  Yes| 42.941090422469365|      77.31427572208112|HighspentMediumva...|400.36080052211616|        Poor|\n",
            "| 0x66a2| CUS_0x1009| January|        Arunah|25.0|063-67-6938|    Mechanic|          52312.68|              4250.39|              6.0|            5.0|         17.0|        4.0|Not Specified, Ho...|                  8|                1749.0|                9.73|                 2.0|  Standard|          202.68|      23.679533922643838|              NULL|                   NM| 108.36646712525564|      261.2109793689318|LowspentMediumval...| 335.4615535058126|    Standard|\n",
            "| 0x66a3| CUS_0x1009|February|        Arunah|25.0|063-67-6938|    Mechanic|          52312.68|              4250.39|              6.0|            5.0|         17.0|        4.0|Not Specified, Ho...|                  8|                  16.0|                9.73|                 2.0|  Standard|          202.68|      28.451198540387306|              NULL|                  Yes| 108.36646712525564|      142.4647303239083|HighspentMediumva...|424.20780255083616|    Standard|\n",
            "| 0x66a4| CUS_0x1009|   March|        Arunah|26.0|063-67-6938|    Mechanic|          52312.68|              4250.39|              6.0|            5.0|         17.0|        4.0|Not Specified, Ho...|                  8|                  18.0|                9.73|                 2.0|  Standard|          202.68|       26.37198188766116|              NULL|                  Yes| 108.36646712525564|      162.7830849440951|HighspentMediumva...| 403.8894479306493|    Standard|\n",
            "| 0x66a5| CUS_0x1009|   April|        Arunah|26.0|063-67-6938|    Mechanic|          52312.68|              4250.39|              6.0|            5.0|         17.0|     1094.0|Not Specified, Ho...|                 10|                  18.0|                9.73|                 2.0|          |          202.68|       24.99623888468216|              NULL|                  Yes| 108.36646712525564|      171.4504427290597|HighspentSmallval...|405.22209014568483|    Standard|\n",
            "| 0x66a6| CUS_0x1009|     May|        Arunah|26.0|063-67-6938|    Mechanic|          52312.68|              4250.39|              6.0|            5.0|         17.0|        4.0|Not Specified, Ho...|                  8|                  19.0|                9.73|                 4.0|          |          202.68|       30.38181446769299|              NULL|                  Yes| 108.36646712525564|      70.92860618916454|HighspentMediumva...|495.74392668557994|    Standard|\n",
            "| 0x66a7| CUS_0x1009|    June|        Arunah|26.0|063-67-6938|            |          52312.68|              4250.39|              6.0|            5.0|         17.0|        4.0|Not Specified, Ho...|                  3|                  18.0|                9.73|                 4.0|  Standard|          202.68|      30.608989855632352|              NULL|                  Yes| 108.36646712525564|     150.79593432594388|              !@9#%8|445.87659854880053|    Standard|\n",
            "| 0x66a8| CUS_0x1009|    July|        Arunah|26.0|063-67-6938|    Mechanic|          52312.68|              4250.39|              6.0|            5.0|         17.0|        4.0|Not Specified, Ho...|                  8|                  18.0|                9.73|                 4.0|  Standard|          202.68|      33.943117707644795|              NULL|                  Yes| 108.36646712525564|     155.14105344210978|HighspentMediumva...| 411.5314794326347|    Standard|\n",
            "| 0x66a9| CUS_0x1009|  August|        Arunah|26.0|063-67-6938|    Mechanic|          52312.68|              4250.39|              6.0|            5.0|         17.0|        4.0|Not Specified, Ho...|                  5|                  18.0|                9.73|                 4.0|          |          202.68|         40.286996673783|              NULL|                  Yes| 108.36646712525564|      58.66019164829086|HighspentMediumva...|508.01234122645366|    Standard|\n",
            "| 0x1ef6| CUS_0x100b| January|      Shirboni|18.0|238-62-0395|MediaManager|113781.38999999998|            9549.7825|              1.0|            4.0|          1.0|        0.0|                NULL|                 14|                   7.0|               11.34|                 1.0|      Good|          1030.2|       37.99875980252553|              NULL|                   No|                0.0|     397.24184577026637|LowspentMediumval...| 837.7364042297336|        Poor|\n",
            "| 0x1ef7| CUS_0x100b|February|      Shirboni|18.0|238-62-0395|MediaManager|113781.38999999998|            9549.7825|              1.0|            4.0|          1.0|        0.0|                NULL|                 14|                   9.0|               11.34|              2271.0|          |          1030.2|       35.94765528296622|              NULL|                   No|                0.0|      661.6240479398714|LowspentLargevalu...| 563.3542020601286|        Poor|\n",
            "| 0x1ef8| CUS_0x100b|   March|      Shirboni|18.0|238-62-0395|MediaManager|113781.38999999998|                 NULL|              1.0|            4.0|          1.0|        0.0|                NULL|                 19|                   7.0|               11.34|                 1.0|      Good|          1030.2|      43.829630018622844|              NULL|                   No|                0.0|                   NULL|HighspentLargeval...| 962.5677054168697|        Poor|\n",
            "| 0x1ef9| CUS_0x100b|   April|      Shirboni|18.0|238-62-0395|MediaManager|113781.38999999998|            9549.7825|              1.0|            4.0|          1.0|        0.0|                NULL|                 14|                   7.0|                NULL|                 1.0|      Good|          1030.2|      31.016086286438927|              NULL|                   No|                0.0|                10000.0|HighspentLargeval...| 969.7201635239168|    Standard|\n",
            "+-------+-----------+--------+--------------+----+-----------+------------+------------------+---------------------+-----------------+---------------+-------------+-----------+--------------------+-------------------+----------------------+--------------------+--------------------+----------+----------------+------------------------+------------------+---------------------+-------------------+-----------------------+--------------------+------------------+------------+\n",
            "only showing top 20 rows\n",
            "\n"
          ]
        }
      ]
    },
    {
      "cell_type": "markdown",
      "source": [
        "# Data types after type casting"
      ],
      "metadata": {
        "id": "POKtOR5HbH2e"
      }
    },
    {
      "cell_type": "code",
      "source": [
        "data.printSchema()"
      ],
      "metadata": {
        "colab": {
          "base_uri": "https://localhost:8080/"
        },
        "id": "7R9Hp74jbDpY",
        "outputId": "dbe8bd10-dee3-4f66-bff0-628d4a2ed037"
      },
      "execution_count": 92,
      "outputs": [
        {
          "output_type": "stream",
          "name": "stdout",
          "text": [
            "root\n",
            " |-- ID: string (nullable = true)\n",
            " |-- Customer_ID: string (nullable = true)\n",
            " |-- Month: string (nullable = true)\n",
            " |-- Name: string (nullable = true)\n",
            " |-- Age: double (nullable = true)\n",
            " |-- SSN: string (nullable = true)\n",
            " |-- Occupation: string (nullable = true)\n",
            " |-- Annual_Income: double (nullable = true)\n",
            " |-- Monthly_Inhand_Salary: double (nullable = true)\n",
            " |-- Num_Bank_Accounts: double (nullable = true)\n",
            " |-- Num_Credit_Card: double (nullable = true)\n",
            " |-- Interest_Rate: double (nullable = true)\n",
            " |-- Num_of_Loan: double (nullable = true)\n",
            " |-- Type_of_Loan: string (nullable = true)\n",
            " |-- Delay_from_due_date: integer (nullable = true)\n",
            " |-- Num_of_Delayed_Payment: double (nullable = true)\n",
            " |-- Changed_Credit_Limit: double (nullable = true)\n",
            " |-- Num_Credit_Inquiries: double (nullable = true)\n",
            " |-- Credit_Mix: string (nullable = true)\n",
            " |-- Outstanding_Debt: double (nullable = true)\n",
            " |-- Credit_Utilization_Ratio: double (nullable = true)\n",
            " |-- Credit_History_Age: double (nullable = true)\n",
            " |-- Payment_of_Min_Amount: string (nullable = true)\n",
            " |-- Total_EMI_per_month: double (nullable = true)\n",
            " |-- Amount_invested_monthly: double (nullable = true)\n",
            " |-- Payment_Behaviour: string (nullable = true)\n",
            " |-- Monthly_Balance: double (nullable = true)\n",
            " |-- Credit_Score: string (nullable = true)\n",
            "\n"
          ]
        }
      ]
    }
  ]
}